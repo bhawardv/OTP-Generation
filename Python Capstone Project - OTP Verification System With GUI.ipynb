{
 "cells": [
  {
   "cell_type": "code",
   "execution_count": 6,
   "id": "8b02d3ea",
   "metadata": {},
   "outputs": [
    {
     "name": "stdout",
     "output_type": "stream",
     "text": [
      "OTP sent to bhawar: 626209\n",
      "OTP Verification Successful!\n"
     ]
    }
   ],
   "source": [
    "# Importing the PySimpleGUI library and random module\n",
    "import PySimpleGUI as sg\n",
    "import random\n",
    "\n",
    "# Generate a 6-digit OTP randomly\n",
    "def generate_otp():\n",
    "    return str(random.randint(100000, 999999))\n",
    "\n",
    "\n",
    "# function to verify if the entered OTP matches the generated OTP\n",
    "def verify_otp(entered_otp, generated_otp):\n",
    "    # It returns True if the entered OTP matches the generated OTP, and False otherwise\n",
    "    return entered_otp == generated_otp\n",
    "\n",
    "\n",
    "\n",
    "# Create the GUI layout: layout variable defines the graphical user interface (GUI) layout using a list of lists\n",
    "layout = [\n",
    "    [sg.Text(\"Enter your email address:\")],\n",
    "    [sg.InputText(key=\"email\")],\n",
    "    [sg.Button(\"Send OTP\"), sg.Button(\"Exit\")],\n",
    "    [sg.Text(\"\", size=(30, 1), key=\"output\")]\n",
    "]\n",
    "\n",
    "# Create the GUI window titled 'OTP Verification' with specified layout\n",
    "window = sg.Window(\"OTP Verification\", layout)\n",
    "\n",
    "\n",
    "# While Loop keeps the GUI window open until the user closes it\n",
    "while True:\n",
    "    event, values = window.read()  \n",
    "\n",
    "    if event == sg.WINDOW_CLOSED or event == \"Exit\": # line waits for user interactions (button clicks or window closure)\n",
    "        break\n",
    "    elif event == \"Send OTP\":\n",
    "        user_email = values[\"email\"]\n",
    "        six_digit_otp = generate_otp()\n",
    "\n",
    "        # Simulate sending OTP via email (you can replace this with actual email sending logic)\n",
    "        print(f\"OTP sent to {user_email}: {six_digit_otp}\")\n",
    "       \n",
    "        # Allow the user to retry OTP entry in case of incorrect input\n",
    "        attempt = 3\n",
    "        while attempt >= 1:\n",
    "            # Prompt the user to enter the OTP\n",
    "            entered_otp = sg.popup_get_text(\"Enter the OTP received in your email:\")\n",
    "        \n",
    "            # Verify OTP\n",
    "            if verify_otp(entered_otp, six_digit_otp):\n",
    "                print('OTP Verification Successful!')\n",
    "                sg.popup(\"OTP verification successful. Access granted.\")\n",
    "                break\n",
    "            else:\n",
    "                attempt -=1\n",
    "                sg.popup_error(f\"Invalid OTP. {attempt} attempts left.\")\n",
    "        else:\n",
    "            print('You have exhausted all attempts')\n",
    "            sg.popup_error(\"You have exhausted all attempts\")\n",
    "\n",
    "# Ensures that the GUI window is properly closed when the program exits            \n",
    "window.close()\n"
   ]
  },
  {
   "cell_type": "code",
   "execution_count": null,
   "id": "41773df9",
   "metadata": {},
   "outputs": [],
   "source": []
  }
 ],
 "metadata": {
  "kernelspec": {
   "display_name": "Python 3 (ipykernel)",
   "language": "python",
   "name": "python3"
  },
  "language_info": {
   "codemirror_mode": {
    "name": "ipython",
    "version": 3
   },
   "file_extension": ".py",
   "mimetype": "text/x-python",
   "name": "python",
   "nbconvert_exporter": "python",
   "pygments_lexer": "ipython3",
   "version": "3.10.9"
  }
 },
 "nbformat": 4,
 "nbformat_minor": 5
}
