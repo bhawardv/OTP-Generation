{
 "cells": [
  {
   "cell_type": "code",
   "execution_count": 2,
   "id": "4daaa8ef",
   "metadata": {},
   "outputs": [
    {
     "name": "stdout",
     "output_type": "stream",
     "text": [
      "Enter your email address: BHAWAR\n",
      "OTP sent to BHAWAR: 163840\n",
      "Enter the OTP received in your email: 163840\n",
      "OTP verification successful. Access granted.\n"
     ]
    }
   ],
   "source": [
    "# Importing the random module, which provides functions for generating random numbers\n",
    "import random\n",
    "\n",
    "# function to generate a 6-digit OTP randomly\n",
    "def generate_otp():\n",
    "    # function to generate a random integer between 100000 and 999999(inclusive)\n",
    "    # OTP is returned as a string\n",
    "    return str(random.randint(100000, 999999))    \n",
    "\n",
    "# function to simulate sending the OTP to the user's email address\n",
    "def send_otp_via_email(email_address, otp):\n",
    "    print(f\"OTP sent to {email_address}: {otp}\")\n",
    "    \n",
    "\n",
    "# function to verify if the entered OTP matches the generated OTP\n",
    "def verify_otp(entered_otp, generated_otp):\n",
    "    # It returns True if the entered OTP matches the generated OTP, and False otherwise\n",
    "    return entered_otp == generated_otp\n",
    "\n",
    "# function to prompt the user to enter the OTP received in their email\n",
    "def main():\n",
    "    user_email = input('Enter your email address: ')\n",
    "\n",
    "    # Generate OTP\n",
    "    six_digit_otp = generate_otp()\n",
    "\n",
    "    # Send OTP via email\n",
    "    entered_otp = send_otp_via_email(user_email, six_digit_otp)\n",
    "\n",
    "    # Allow the user to retry OTP entry in case of incorrect input\n",
    "    attempts = 3\n",
    "    while attempts >= 1:\n",
    "        entered_otp = input(\"Enter the OTP received in your email: \")\n",
    "        if verify_otp(entered_otp, six_digit_otp):\n",
    "            print(\"OTP verification successful. Access granted.\")\n",
    "            break\n",
    "        else:\n",
    "            attempts -= 1\n",
    "            print(f\"Invalid OTP. {attempts} attempts left.\")\n",
    "            \n",
    "    \n",
    "        print(\"You have exhausted all attempts. Access denied.\")\n",
    "        \n",
    "       \n",
    "# It ensures that the main() function is executed only when the script is run directly, not when imported as a module        \n",
    "if __name__ == \"__main__\":\n",
    "    main()\n"
   ]
  },
  {
   "cell_type": "code",
   "execution_count": null,
   "id": "a153e206",
   "metadata": {},
   "outputs": [],
   "source": []
  }
 ],
 "metadata": {
  "kernelspec": {
   "display_name": "Python 3 (ipykernel)",
   "language": "python",
   "name": "python3"
  },
  "language_info": {
   "codemirror_mode": {
    "name": "ipython",
    "version": 3
   },
   "file_extension": ".py",
   "mimetype": "text/x-python",
   "name": "python",
   "nbconvert_exporter": "python",
   "pygments_lexer": "ipython3",
   "version": "3.10.9"
  }
 },
 "nbformat": 4,
 "nbformat_minor": 5
}
